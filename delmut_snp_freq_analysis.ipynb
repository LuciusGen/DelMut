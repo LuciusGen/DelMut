{
 "cells": [
  {
   "cell_type": "markdown",
   "metadata": {},
   "source": [
    "## Analysis of mutation frequencies in Cicer\n",
    "\n",
    "**Author:** Anna Igolkina, [e-mail](mailto:igolkinaanna11@gmail.com)."
   ]
  },
  {
   "cell_type": "markdown",
   "metadata": {},
   "source": [
    "### Get frequencies of non-synonymous SNPs"
   ]
  },
  {
   "cell_type": "code",
   "execution_count": 1,
   "metadata": {},
   "outputs": [
    {
     "data": {
      "text/html": [
       "'Number of SNPs is 1028 with the threshold 300'"
      ],
      "text/latex": [
       "'Number of SNPs is 1028 with the threshold 300'"
      ],
      "text/markdown": [
       "'Number of SNPs is 1028 with the threshold 300'"
      ],
      "text/plain": [
       "[1] \"Number of SNPs is 1028 with the threshold 300\""
      ]
     },
     "metadata": {},
     "output_type": "display_data"
    }
   ],
   "source": [
    "d_nonsyn_init = read.table('freq_cicer/cicer_missence_snps_3291.txt')\n",
    "ind_samples = 6:dim(d_nonsyn_init)[2]\n",
    "presence_of_snp = rowSums(1-is.na(d_nonsyn_init[,ind_samples]))\n",
    "\n",
    "thresh_val = 300\n",
    "d_nonsyn_cut = d_nonsyn_init[(presence_of_snp >= thresh_val),]\n",
    "sprintf('Number of SNPs is %i with the threshold %i', dim(d_nonsyn_cut)[1], thresh_val)\n",
    "\n",
    "freq_snp_nonsyn = rowSums(d_nonsyn_cut[,ind_samples], na.rm = TRUE) / \n",
    "                      (rowSums(1-is.na(d_nonsyn_cut[,ind_samples])) * 2)\n",
    "\n",
    "freq_delet = freq_snp_nonsyn[d_nonsyn_cut[,'pred'] == 1]\n",
    "freq_neutral = freq_snp_nonsyn[d_nonsyn_cut[,'pred'] == 0]"
   ]
  },
  {
   "cell_type": "markdown",
   "metadata": {},
   "source": [
    "### Get frequencies of synonymous SNPs"
   ]
  },
  {
   "cell_type": "code",
   "execution_count": 2,
   "metadata": {},
   "outputs": [
    {
     "data": {
      "text/html": [
       "'Number of SNPs is 901 with the threshold 300'"
      ],
      "text/latex": [
       "'Number of SNPs is 901 with the threshold 300'"
      ],
      "text/markdown": [
       "'Number of SNPs is 901 with the threshold 300'"
      ],
      "text/plain": [
       "[1] \"Number of SNPs is 901 with the threshold 300\""
      ]
     },
     "metadata": {},
     "output_type": "display_data"
    }
   ],
   "source": [
    "\n",
    "d_syn_init = read.table('freq_cicer/cicer_synon_snps_3023.txt')\n",
    "ind_samples_syn = 5:dim(d_syn_init)[2]\n",
    "presence_of_snp_syn = rowSums(1-is.na(d_syn_init[,ind_samples_syn]))\n",
    "\n",
    "thresh_val = 300\n",
    "d_syn_cut = d_syn_init[(presence_of_snp_syn >= thresh_val),]\n",
    "sprintf('Number of SNPs is %i with the threshold %i', dim(d_syn_cut)[1], thresh_val)\n",
    "\n",
    "freq_syn = rowSums(d_syn_cut[,ind_samples_syn], na.rm = TRUE) / \n",
    "                      (rowSums(1-is.na(d_syn_cut[,ind_samples_syn])) * 2)\n",
    "\n"
   ]
  },
  {
   "cell_type": "markdown",
   "metadata": {},
   "source": [
    "### Wilcoxon rank sum test"
   ]
  },
  {
   "cell_type": "code",
   "execution_count": 3,
   "metadata": {},
   "outputs": [
    {
     "data": {
      "text/html": [
       "'Mean frequencies Del: 0.051; Neutral: 0.097, Synon: 0.109'"
      ],
      "text/latex": [
       "'Mean frequencies Del: 0.051; Neutral: 0.097, Synon: 0.109'"
      ],
      "text/markdown": [
       "'Mean frequencies Del: 0.051; Neutral: 0.097, Synon: 0.109'"
      ],
      "text/plain": [
       "[1] \"Mean frequencies Del: 0.051; Neutral: 0.097, Synon: 0.109\""
      ]
     },
     "metadata": {},
     "output_type": "display_data"
    },
    {
     "data": {
      "text/plain": [
       "\n",
       "\tWilcoxon rank sum test with continuity correction\n",
       "\n",
       "data:  freq_delet and freq_neutral\n",
       "W = 111490, p-value = 0.03639\n",
       "alternative hypothesis: true location shift is less than 0\n"
      ]
     },
     "metadata": {},
     "output_type": "display_data"
    },
    {
     "data": {
      "text/plain": [
       "\n",
       "\tWilcoxon rank sum test with continuity correction\n",
       "\n",
       "data:  freq_delet and freq_syn\n",
       "W = 143220, p-value = 0.003097\n",
       "alternative hypothesis: true location shift is not equal to 0\n"
      ]
     },
     "metadata": {},
     "output_type": "display_data"
    },
    {
     "data": {
      "text/plain": [
       "\n",
       "\tWilcoxon rank sum test with continuity correction\n",
       "\n",
       "data:  freq_neutral and freq_syn\n",
       "W = 293100, p-value = 0.2793\n",
       "alternative hypothesis: true location shift is not equal to 0\n"
      ]
     },
     "metadata": {},
     "output_type": "display_data"
    }
   ],
   "source": [
    "sprintf('Mean frequencies Del: %0.3f; Neutral: %0.3f, Synon: %0.3f', \n",
    "        mean(freq_delet), mean(freq_neutral), mean(freq_syn))\n",
    "\n",
    "wilcox.test(freq_delet , freq_neutral, alternative=\"less\") \n",
    "wilcox.test(freq_delet , freq_syn) \n",
    "wilcox.test(freq_neutral , freq_syn)"
   ]
  },
  {
   "cell_type": "markdown",
   "metadata": {},
   "source": [
    "### Compare PolyPhen2 and our predictions for cicer: contigency table"
   ]
  },
  {
   "cell_type": "code",
   "execution_count": 4,
   "metadata": {},
   "outputs": [
    {
     "data": {
      "text/html": [
       "'Cicer Contigency table Our vs PolyPhen2 :'"
      ],
      "text/latex": [
       "'Cicer Contigency table Our vs PolyPhen2 :'"
      ],
      "text/markdown": [
       "'Cicer Contigency table Our vs PolyPhen2 :'"
      ],
      "text/plain": [
       "[1] \"Cicer Contigency table Our vs PolyPhen2 :\""
      ]
     },
     "metadata": {},
     "output_type": "display_data"
    },
    {
     "data": {
      "text/plain": [
       "     p_our\n",
       "p_pph    0    1\n",
       "    0 1923  239\n",
       "    1  278  851"
      ]
     },
     "metadata": {},
     "output_type": "display_data"
    }
   ],
   "source": [
    "\n",
    "snp_predict = read.table('freq_cicer/cicer_resulting_table.tsv', , header = TRUE)\n",
    "\n",
    "'Cicer Contigency table Our vs PolyPhen2 :'\n",
    "p_our = snp_predict[,'pred_best_clf']\n",
    "p_pph = snp_predict[,'pred_pph2']\n",
    "table(p_pph, p_our)"
   ]
  },
  {
   "cell_type": "code",
   "execution_count": null,
   "metadata": {},
   "outputs": [],
   "source": []
  }
 ],
 "metadata": {
  "kernelspec": {
   "display_name": "R",
   "language": "R",
   "name": "ir"
  },
  "language_info": {
   "codemirror_mode": "r",
   "file_extension": ".r",
   "mimetype": "text/x-r-source",
   "name": "R",
   "pygments_lexer": "r",
   "version": "3.4.3"
  }
 },
 "nbformat": 4,
 "nbformat_minor": 2
}
